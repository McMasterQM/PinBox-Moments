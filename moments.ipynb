{
  "cells": [
    {
      "cell_type": "markdown",
      "id": "4f247ada",
      "metadata": {
        "id": "4f247ada"
      },
      "source": [
        "# Moments of the Particle-in-a-Box\n",
        "\n",
        "In this notebook, we will work with moments, $\\langle x^n \\rangle$, for the one-dimensional particle-in-a-box.\n",
        "\n",
        "The moments of the particle-in-a-box are defined as:\n",
        "$$\n",
        "m_{k;n} = \\langle x^k \\rangle = \\int_0^a \\psi_n^*(x)\\, x^k \\,\\psi_n(x) dx\n",
        "$$\n",
        "\n",
        "The property density for the moment operator is thus defined as\n",
        "$$\n",
        "m_{k;n}(x) = x^k \\left|\\psi_n(x)\\right|^2\n",
        "$$"
      ]
    },
    {
      "cell_type": "markdown",
      "id": "21f2c926",
      "metadata": {
        "id": "21f2c926"
      },
      "source": [
        "### $n=1$\n",
        "\n",
        "The average position is expected to be\n",
        "\n",
        "$$\n",
        "\\langle x \\rangle =\\tfrac{a}{2}\n",
        "$$\n",
        "\n",
        "We can confirm this by explicit integration,\n",
        "\n",
        "$$\n",
        "\\begin{align}\n",
        "\\langle x \\rangle &= \\int_0^a \\psi_n^*(x)\\, x \\,\\psi_n(x) dx \\\\\n",
        "&= \\int_0^a \\left(\\sqrt{\\tfrac{2}{a}} \\sin\\left(\\tfrac{n \\pi x}{a} \\right)\\right) x \\left(\\sqrt{\\tfrac{2}{a}}\\sin\\left(\\tfrac{n \\pi x}{a} \\right)\\right) dx \\\\\n",
        "&= \\tfrac{2}{a} \\int_0^a  x \\sin^2\\left(\\tfrac{n \\pi x}{a} \\right) dx \\\\\n",
        "&= \\tfrac{2}{a} \\left[ \\tfrac{x^2}{4} - x \\tfrac{\\sin \\tfrac{2n \\pi x}{a}}{\\tfrac{4 n \\pi}{a}}  \n",
        "- \\tfrac{\\cos \\tfrac{2n \\pi x}{a}}{\\tfrac{8 n^2 \\pi^2}{a^2}}  \n",
        " \\right]_0^a \\\\\n",
        " &= \\tfrac{2}{a} \\left[ \\tfrac{a^2}{4} - 0 - 0 \\right] \\\\\n",
        " &= \\tfrac{a}{2}\n",
        "\\end{align}\n",
        "$$\n"
      ]
    },
    {
      "cell_type": "markdown",
      "id": "83588641",
      "metadata": {
        "id": "83588641"
      },
      "source": [
        "\n",
        "### $n=2$\n",
        "Similarly, we expect that the expectation value of $\\langle x^2 \\rangle$ will be proportional to $a^2$. We can confirm this by explicit integration,\n",
        "\n",
        "$$\n",
        "\\begin{align}\n",
        "\\langle x^2 \\rangle &= \\int_0^a \\psi_n^*(x)\\, x^2 \\,\\psi_n(x) dx \\\\\n",
        "&= \\int_0^a \\left(\\sqrt{\\tfrac{2}{a}} \\sin\\left(\\tfrac{n \\pi x}{a} \\right)\\right) x^2 \\left(\\sqrt{\\tfrac{2}{a}}\\sin\\left(\\tfrac{n \\pi x}{a} \\right)\\right) dx \\\\\n",
        "&= \\tfrac{2}{a} \\int_0^a  x^2 \\sin^2\\left(\\tfrac{n \\pi x}{a} \\right) dx \\\\\n",
        "&= \\tfrac{2}{a} \\left[ \\tfrac{x^3}{6}\n",
        " - x^2 \\tfrac{\\sin \\tfrac{2n \\pi x}{a}}{\\tfrac{4 n \\pi}{a}}\n",
        " - x \\tfrac{\\cos \\tfrac{2n \\pi x}{a}}{\\tfrac{4 n^2 \\pi^2}{a^2}}\n",
        " - \\tfrac{\\sin \\tfrac{2n \\pi x}{a}}{\\tfrac{8 n^3 \\pi^3}{a^3}}\n",
        " \\right]_0^a \\\\\n",
        " &= \\tfrac{2}{a} \\left[ \\tfrac{a^3}{6} - 0 - \\tfrac{a}{{\\tfrac{4 n^2 \\pi^2}{a^2}}} - 0 \\right] \\\\\n",
        "  &= \\tfrac{2}{a} \\left[ \\tfrac{a^3}{6} - \\tfrac{a^3}{4 n^2 \\pi^2} \\right] \\\\\n",
        "  &= a^2\\left[ \\tfrac{1}{3} - \\tfrac{1}{2 n^2 \\pi^2} \\right]\n",
        "\\end{align}\n",
        "$$\n",
        "\n"
      ]
    },
    {
      "cell_type": "markdown",
      "id": "c2316cba",
      "metadata": {
        "id": "c2316cba"
      },
      "source": [
        "### $n \\ge 0$\n",
        "Arbitrary moments can be determined using the [generalized hypergeometric function](https://en.wikipedia.org/wiki/Generalized_hypergeometric_function) ${}_1F_2(a;b_1,b_2;z)$. Specifically, we have\n",
        "$$\n",
        "\\begin{align}\n",
        "m_{k,n} &= \\frac{2}{a} \\int_0^a  x^k \\sin^2\\left(\\tfrac{n \\pi x}{a}\\right) \\,dx \\\\\n",
        "&=\\frac{a^k}{k+1} \\left[1-{}_1F_2\\left(\\tfrac{k+1}{2};\\tfrac{1}{2},\\tfrac{k+3}{2};-(n \\pi)^2 \\right)\\right]\n",
        "\\end{align}\n",
        "$$"
      ]
    },
    {
      "cell_type": "markdown",
      "id": "2c6b6b8f",
      "metadata": {
        "id": "2c6b6b8f"
      },
      "source": [
        "### &#x1f469;&#x1f3fd;&#x200d;&#x1f4bb; Assignment: Complete the Below Notebook\n",
        "Use the above example to calculate $\\langle x^n \\rangle$, comparing the numerical integration against the explicit formula, and confirming the correctness of the formula using ${}_1F_2$ for the first and second moments. To do this, complete the code blocks indicated by  `### START YOUR CODE HERE`  and  `### END YOUR CODE HERE` .\n",
        "\n",
        "The detailed steps you'll follow are:\n",
        "1. Complete the `compute_wavefunction` function by coding the expression for calculating the wavefunction. Don't forget the normalization constant. Take into account that x values less than zero or greater than $a$. Support the case where $x$ is simply a real number (a `float`) as well as the case where $x$ is a numpy array (a `numpy.ndarray`).\n",
        "1. Use the `compute_wavefunction` function to complete the `compute_probability` function.\n",
        "1. Fill the gaps in `compute_moment_density` function; this is easiest if you use  the `compute_probability` function.\n",
        "1. Complete the functions `compute_moment_numerical` to compute the moment numerically by using the [`quad`](https://docs.scipy.org/doc/scipy/reference/generated/scipy.integrate.quad.html) function for numerical integration.\n",
        "1. The remaining functions compare you results with the analytical results. Play with different values of $n$, $k$, and $a$.\n",
        "1. Upload your notebook and confirm its correctness. The marking scheme is provided at the end of this document."
      ]
    },
    {
      "cell_type": "code",
      "execution_count": null,
      "id": "82efcd83",
      "metadata": {
        "id": "82efcd83",
        "outputId": "61392cab-0c11-482e-ffe9-ccbee9237d28"
      },
      "outputs": [
        {
          "ename": "SyntaxError",
          "evalue": "invalid syntax (<ipython-input-1-afd975a4b0d6>, line 31)",
          "output_type": "error",
          "traceback": [
            "\u001b[1;36m  File \u001b[1;32m\"<ipython-input-1-afd975a4b0d6>\"\u001b[1;36m, line \u001b[1;32m31\u001b[0m\n\u001b[1;33m    wavefunction =\u001b[0m\n\u001b[1;37m                   ^\u001b[0m\n\u001b[1;31mSyntaxError\u001b[0m\u001b[1;31m:\u001b[0m invalid syntax\n"
          ]
        }
      ],
      "source": [
        "import numpy as np\n",
        "from mpmath import hyp1f2\n",
        "from scipy.integrate import quad\n",
        "import matplotlib.pyplot as plt\n",
        "\n",
        "# Define a function for the wavefunction\n",
        "def compute_wavefunction(x, n, a):\n",
        "    \"\"\"Compute 1-dimensional particle-in-a-box wave-function value(s).\n",
        "\n",
        "    Parameters\n",
        "    ----------\n",
        "    x: float or np.ndarray\n",
        "        Position of the particle.\n",
        "    n: int\n",
        "        Quantum number value.\n",
        "    a: float\n",
        "        Length of the box.\n",
        "    \"\"\"\n",
        "    # check argument n=1,2,3,....\n",
        "    if not (isinstance(n, int) and n > 0):\n",
        "        raise ValueError(\"The principle quantum number, n, should be a positive integer.\")\n",
        "    # check argument a > 0\n",
        "    if a <= 0.0:\n",
        "        raise ValueError(\"The length of the box, a, should be positive.\")\n",
        "    # check type for the position variable x\n",
        "    if not (isinstance(x, float) or hasattr(x, \"__iter__\")):\n",
        "        raise ValueError(\"The position of the particle, x, should be a float or an array.\")\n",
        "\n",
        "    # compute wavefunction\n",
        "\n",
        "    ### START YOUR CODE HERE\n",
        "    wavefunction =\n",
        "    ### END YOUR CODE HERE\n",
        "\n",
        "    # set the wavefunction values outside the box equal to zero\n",
        "\n",
        "    ### START YOUR CODE HERE\n",
        "\n",
        "    ### END YOUR CODE HERE\n",
        "\n",
        "    return wavefunction\n",
        "\n",
        "# Define a function for the wavefunction squared\n",
        "def compute_probability(x, n, a):\n",
        "    \"\"\"Compute 1-dimensional particle-in-a-box probablity value(s).\n",
        "\n",
        "    See `compute_wavefunction` parameters.\n",
        "    \"\"\"\n",
        "    ### START YOUR CODE HERE\n",
        "    probability =\n",
        "    ### END YOUR CODE HERE\n",
        "    return probability\n",
        "\n",
        "def compute_moment_density(x, n, a, power):\n",
        "    \"\"\"Compute the property density for the x^power moment of the 1-dimensional particle-in-a-box.\n",
        "       This is the integrand for computing the moment.\n",
        "    See `compute_wavefunction` parameters.\n",
        "    \"\"\"\n",
        "    ### START YOUR CODE HERE\n",
        "\n",
        "    return\n",
        "    ### END YOUR CODE HERE\n",
        "\n",
        "#Compute <x^power>, the expectation value of x^power, using numerical integration.\n",
        "def compute_moment_numerical(n, a, power):\n",
        "    \"\"\"Compute the moment x^power for the n-th state of the box of length a, numerically.\n",
        "    Compute the average value by numerical integration\n",
        "    \"\"\"\n",
        "\n",
        "    ### START YOUR CODE HERE\n",
        "    moment, error =\n",
        "    ### END YOUR CODE HERE\n",
        "\n",
        "    return moment\n",
        "\n",
        "#Compute <x^power>, the expectation value of x^power, using the analytical formula.\n",
        "def compute_moment_analytical(n, a, power):\n",
        "    \"\"\"Compute the moment x^power for the n-th state of the box of length a, analytically.\n",
        "    Compute the average value by the analytical expression using the 1F2\n",
        "    generalized hypergeometric function\n",
        "    \"\"\"\n",
        "\n",
        "    moment = a**power/(power+1) * (1 - hyp1f2((power+1)/2,1/2,(power+3)/2,-(n*np.pi)**2))\n",
        "\n",
        "    return float(moment)\n",
        "\n",
        "\n",
        "#This next bit of code just prints out the values of the first few moments:\n",
        "def check_moments(n, a):\n",
        "    \"\"\"Compute the first 4 moments for the n-th state of the box of length a.\n",
        "    Both numerical and analytical formulas are evaluated. For the first two\n",
        "    moments, the explicit analytical formula is used, in addition to the one\n",
        "    using the generalized hypergeometric function.\n",
        "    \"\"\"\n",
        "\n",
        "    #compute the moments through fourth order numerically (nmoment_1...nmoment_4)\n",
        "    nmoment_1 =\n",
        "    nmoment_2 =\n",
        "    nmoment_3 =\n",
        "    nmoment_4 =\n",
        "\n",
        "    #compute the moments through fourth order analytically (mmoment_1,...,mmoment_4)\n",
        "    mmoment_1 =\n",
        "    mmoment_2 =\n",
        "    mmoment_3 =\n",
        "    mmoment_4 =\n",
        "\n",
        "    #check the computed values of the moments against the analytic formula and the explicit\n",
        "    #formulas for the first and second moments.\n",
        "    print(f\"<r> numerical   = {nmoment_1:.5f}\")\n",
        "    print(f\"<r> analytic    = {mmoment_1:.5f}\")\n",
        "    print(f\"<r> explicit    = {a/2:.5f}\")\n",
        "    print(f\"<r^2> numerical = {nmoment_2:.5f}\")\n",
        "    print(f\"<r^2> analytic  = {mmoment_2:.5f}\")\n",
        "    print(f\"<r^2> explicit  = {a**2*(1/3 - 1./(2*n**2*np.pi**2)):.5f}\")\n",
        "    print(f\"<r^3> numerical = {nmoment_3:.5f}\")\n",
        "    print(f\"<r^3> analytic  = {mmoment_3:.5f}\")\n",
        "    print(f\"<r^4> numerical = {nmoment_4:.5f}\")\n",
        "    print(f\"<r^4> analytic  = {mmoment_4:.5f}\")\n",
        "\n",
        "\n",
        "#Principle quantum number:\n",
        "n = 1\n",
        "\n",
        "#Box length:\n",
        "a = 1\n",
        "\n",
        "check_moments(a, n)"
      ]
    },
    {
      "cell_type": "markdown",
      "id": "76bf7300",
      "metadata": {
        "id": "76bf7300"
      },
      "source": [
        "We can also compare these results to the results we know for large powers of $x$ and high principle quantum numbers,\n",
        "$$\n",
        "m_{k,n\\rightarrow \\infty} = \\frac{a^k}{k+1}\n",
        "$$\n",
        "$$\n",
        "m_{k\\rightarrow \\infty,n} =\\frac{(2 n \\pi)^2 a^{k}}{(k+1)(k+2)(k+3)}\n",
        "$$"
      ]
    },
    {
      "cell_type": "code",
      "execution_count": null,
      "id": "88dc6110",
      "metadata": {
        "id": "88dc6110",
        "outputId": "4ef159a0-401a-48f3-d843-fbb521226368"
      },
      "outputs": [
        {
          "name": "stdout",
          "output_type": "stream",
          "text": [
            "<r^5> analytic   = 0.16666616006136448\n",
            "<r^5> asymptotic = 0.16666666666666666\n",
            "<r^kbig> analytic   = 7.77158220645964e-06\n",
            "<r^kbig> asymptotic = 7.80171923986404e-06\n"
          ]
        }
      ],
      "source": [
        "#Test asymptotic results for the 5-th moment of the 500th state:\n",
        "nbig = 500\n",
        "print(f\"<r^5> analytic   = {compute_moment_analytical(nbig, a, 5)}\")\n",
        "print(f\"<r^5> asymptotic = {a**5/(5+1)}\")\n",
        "\n",
        "#Test asymptotic results for the 500th moment of the 5th state\n",
        "kbig = 500\n",
        "print(f\"<r^kbig> analytic   = {compute_moment_analytical(5, a, kbig)}\")\n",
        "print(f\"<r^kbig> asymptotic = {(2*5*np.pi)**2*a**kbig/((kbig+1)*(kbig+2)*(kbig+3))}\")\n"
      ]
    },
    {
      "cell_type": "code",
      "execution_count": null,
      "id": "c702b669",
      "metadata": {
        "id": "c702b669"
      },
      "outputs": [],
      "source": [
        "# Plot moments vs. power for box length a\n",
        "a = 1\n",
        "\n",
        "x_values = range(1, 21, 1)\n",
        "markers = [\"o\", \".\", \"^\", \"x\", \"X\"]\n",
        "lines = [\"-\", \"--\", \"-.\", \"dotted\", \"-\"]\n",
        "\n",
        "for i, n in enumerate(range(1, 6)):\n",
        "    y_values = [compute_moment_analytical(n, a, power) for power in x_values]\n",
        "    plt.plot(x_values, y_values, marker=markers[i], linestyle=lines[i], label=f\"n={n}\")\n",
        "\n",
        "plt.xlabel(\"moment power, k\", fontsize=12)\n",
        "plt.ylabel(\"moment, <x^k>\", fontsize=12)\n",
        "plt.title(\"Moment Value vs. Moment Power\", fontsize=18)\n",
        "plt.xticks(x_values)\n",
        "plt.legend(frameon=False)\n",
        "plt.show()\n",
        "\n",
        "# Plot moments vs. quantum number for box length a\n",
        "a = 1\n",
        "\n",
        "x_values = range(1, 21, 1)\n",
        "markers = [\"o\", \".\", \"^\", \"x\", \"X\"]\n",
        "lines = [\"-\", \"--\", \"-.\", \"dotted\", \"-\"]\n",
        "\n",
        "for i, power in enumerate(range(1, 6)):\n",
        "    y_values = [compute_moment_analytical(n, a, power) for n in x_values]\n",
        "    plt.plot(x_values, y_values, marker=markers[i], linestyle=lines[i], label=f\"k={power}\")\n",
        "\n",
        "plt.xlabel(\"quantum number, n\", fontsize=12)\n",
        "plt.ylabel(\"moment, <x^k>\", fontsize=12)\n",
        "plt.title(\"Moment Value vs. Quantum Number\", fontsize=18)\n",
        "plt.xticks(x_values)\n",
        "plt.legend(frameon=False)\n",
        "plt.show()"
      ]
    },
    {
      "cell_type": "markdown",
      "id": "69aec53d",
      "metadata": {
        "id": "69aec53d"
      },
      "source": [
        "## &#x2696;&#xfe0f; Marking Scheme\n",
        "&#x2611;&#xfe0f; Successful completion of the notebook, together with the ability to discuss your strategy, earns an **S**.\n",
        "\n",
        "&#x1f4b0; For an **S+**, discuss trends in how the moments change with respect to principle quantum number $n$, and also how the moments change as the power, $k$, increases. You can add this discussion as a Markdown cell at the end of this notebook."
      ]
    },
    {
      "cell_type": "markdown",
      "id": "5e939cc9",
      "metadata": {
        "id": "5e939cc9"
      },
      "source": []
    }
  ],
  "metadata": {
    "interpreter": {
      "hash": "8867fa4a874d625ac151e80518eaa96dde9c32243951e64c9d5c087633ad9a9a"
    },
    "kernelspec": {
      "display_name": "Python 3 (ipykernel)",
      "language": "python",
      "name": "python3"
    },
    "language_info": {
      "codemirror_mode": {
        "name": "ipython",
        "version": 3
      },
      "file_extension": ".py",
      "mimetype": "text/x-python",
      "name": "python",
      "nbconvert_exporter": "python",
      "pygments_lexer": "ipython3",
      "version": "3.8.5"
    },
    "colab": {
      "provenance": []
    }
  },
  "nbformat": 4,
  "nbformat_minor": 5
}